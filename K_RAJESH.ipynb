{
  "nbformat": 4,
  "nbformat_minor": 0,
  "metadata": {
    "colab": {
      "name": "K RAJESH.ipynb",
      "provenance": []
    },
    "kernelspec": {
      "name": "python3",
      "display_name": "Python 3"
    },
    "language_info": {
      "name": "python"
    }
  },
  "cells": [
    {
      "cell_type": "code",
      "metadata": {
        "id": "eO7k54khWyyN"
      },
      "source": [
        "import  requests\n",
        "from datetime import datetime\n",
        "api_key = '87d845b0b6cf29baa1a73cc34b067a95'\n",
        "location = input(\"Enter the city name: \")\n",
        "\n",
        "complete_api_link=\"https://api.openweathermap.org/data2.5/weather?p=\"+location+\"&aapid=\"+api_key\n",
        "api_link=requests.get(complete_api_link)\n",
        "api_data=api_link.json()\n",
        "\n",
        "#create variables to store and display data\n",
        "temp_city=((api_data['main']['temp'])-273.15)\n",
        "weather_desc=api_data['weather'][0]['description']\n",
        "hmdt=api_data['main']['humidity']\n",
        "wind_spd=api_data['wind']['speed']\n",
        "date_time=datetime.now().strftime(\"%d %b %y| %I:%m:%s %p\")\n",
        "\n",
        "priint(\"------------------------------------------------------\")\n",
        "print(\"weather stats for-{} || {}\".format(location.upper(),date_time))\n",
        "print(\"----------------------------------------------------------\")\n",
        "\n",
        "\n",
        "print(\"current temperature is:{:.2f}deg c\".format(temp_city))\n",
        "print(\"current weather desc :\",weather_desc)\n",
        "print(\"current Humidity      :\",hmdt,'%')\n",
        "print(\"current wind speed    :\",wind_spd,'kmph')"
      ],
      "execution_count": null,
      "outputs": []
    }
  ]
}